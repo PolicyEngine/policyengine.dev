{
 "cells": [
  {
   "cell_type": "markdown",
   "metadata": {},
   "source": [
    "# Examples\n",
    "\n",
    "This notebook uses PolicyEngine to analyse various UK policy reforms (the US interface is the same).\n",
    "\n",
    "## Initialising"
   ]
  },
  {
   "cell_type": "code",
   "execution_count": 1,
   "metadata": {},
   "outputs": [],
   "source": [
    "from policyengine import PolicyEngineUK\n",
    "\n",
    "uk = PolicyEngineUK()"
   ]
  },
  {
   "cell_type": "markdown",
   "metadata": {},
   "source": [
    "## Parametric reforms"
   ]
  },
  {
   "cell_type": "code",
   "execution_count": 2,
   "metadata": {},
   "outputs": [
    {
     "data": {
      "text/plain": [
       "4.759837825716403"
      ]
     },
     "execution_count": 2,
     "metadata": {},
     "output_type": "execute_result"
    }
   ],
   "source": [
    "# The best way to specify parametric reforms is to use the PolicyEngine parameter names.\n",
    "\n",
    "baseline, reformed = uk.create_microsimulations(dict(basic_rate=0.21))\n",
    "\n",
    "(\n",
    "    reformed.calc(\"income_tax\").sum() / 1e9\n",
    "    - baseline.calc(\"income_tax\").sum() / 1e9\n",
    ")"
   ]
  },
  {
   "cell_type": "markdown",
   "metadata": {},
   "source": [
    "## Custom reforms"
   ]
  },
  {
   "cell_type": "code",
   "execution_count": 3,
   "metadata": {},
   "outputs": [
    {
     "data": {
      "text/plain": [
       "0.0"
      ]
     },
     "execution_count": 3,
     "metadata": {},
     "output_type": "execute_result"
    }
   ],
   "source": [
    "# But you can also use the OpenFisca API (see the official documentation) to apply reforms.\n",
    "\n",
    "from openfisca_core.model_api import *\n",
    "\n",
    "\n",
    "class abolish_income_tax(Reform):\n",
    "    def apply(self):\n",
    "        self.neutralize_variable(\"income_tax\")\n",
    "\n",
    "\n",
    "baseline, reformed = uk.create_microsimulations(\n",
    "    dict(reform=abolish_income_tax)\n",
    ")\n",
    "\n",
    "reformed.calc(\"income_tax\").sum() / 1e9  # Should equal 0"
   ]
  },
  {
   "cell_type": "code",
   "execution_count": 7,
   "metadata": {},
   "outputs": [
    {
     "data": {
      "text/plain": [
       "64.32629530166741"
      ]
     },
     "execution_count": 7,
     "metadata": {},
     "output_type": "execute_result"
    }
   ],
   "source": [
    "# If you want to use inheritance:\n",
    "\n",
    "from openfisca_uk import CountryTaxBenefitSystem\n",
    "\n",
    "variables = CountryTaxBenefitSystem().variables\n",
    "\n",
    "\n",
    "class income_tax(type(variables[\"income_tax\"])):\n",
    "    def formula(person, period, parameters):\n",
    "        return (\n",
    "            type(variables[\"income_tax\"]).formula(person, period, parameters)\n",
    "            + 1\n",
    "        )\n",
    "\n",
    "\n",
    "class add_1_pound_to_income_tax(Reform):\n",
    "    def apply(self):\n",
    "        self.update_variable(income_tax)\n",
    "\n",
    "\n",
    "baseline, reformed = uk.create_microsimulations(\n",
    "    dict(reform=add_1_pound_to_income_tax)\n",
    ")\n",
    "\n",
    "(\n",
    "    reformed.calc(\"income_tax\").sum() / 1e6\n",
    "    - baseline.calc(\"income_tax\").sum() / 1e6\n",
    ")  # Should equal about 65"
   ]
  }
 ],
 "metadata": {
  "kernelspec": {
   "display_name": "Python 3.7.11 ('policyengine')",
   "language": "python",
   "name": "python3"
  },
  "language_info": {
   "codemirror_mode": {
    "name": "ipython",
    "version": 3
   },
   "file_extension": ".py",
   "mimetype": "text/x-python",
   "name": "python",
   "nbconvert_exporter": "python",
   "pygments_lexer": "ipython3",
   "version": "3.7.11"
  },
  "orig_nbformat": 4,
  "vscode": {
   "interpreter": {
    "hash": "8dfc7b25af29ff50af05ad7ef5344155df419318e539ca710572e6dd4f9023a3"
   }
  }
 },
 "nbformat": 4,
 "nbformat_minor": 2
}
